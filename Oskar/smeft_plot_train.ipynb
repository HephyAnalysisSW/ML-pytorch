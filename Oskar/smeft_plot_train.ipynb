{
 "cells": [
  {
   "cell_type": "code",
   "execution_count": 9,
   "id": "86caf5c6",
   "metadata": {},
   "outputs": [
    {
     "data": {
      "text/html": [
       "<style>.container { width:98% !important; }</style>"
      ],
      "text/plain": [
       "<IPython.core.display.HTML object>"
      ]
     },
     "metadata": {},
     "output_type": "display_data"
    },
    {
     "data": {
      "text/html": [
       "<style>.output_result { width:95% !important; }</style>"
      ],
      "text/plain": [
       "<IPython.core.display.HTML object>"
      ]
     },
     "metadata": {},
     "output_type": "display_data"
    }
   ],
   "source": [
    "# extend the width of the notebook cells\n",
    "from IPython.display import display, HTML\n",
    "display(HTML(\"<style>.container { width:98% !important; }</style>\"))\n",
    "display(HTML(\"<style>.output_result { width:95% !important; }</style>\"))\n",
    "\n",
    "# autoreload allows changes to modules on the fly (no need for reloading them after a change in the code)\n",
    "%load_ext autoreload\n",
    "%autoreload 2"
   ]
  },
  {
   "cell_type": "code",
   "execution_count": 41,
   "id": "f16deacf",
   "metadata": {},
   "outputs": [],
   "source": [
    "from plot_smeft import *\n",
    "from smeft_train import *\n",
    "import pickle"
   ]
  },
  {
   "cell_type": "markdown",
   "id": "eee9b2d3",
   "metadata": {},
   "source": [
    "## data"
   ]
  },
  {
   "cell_type": "code",
   "execution_count": 11,
   "id": "1a7aac31",
   "metadata": {},
   "outputs": [],
   "source": [
    "file_names = [\n",
    "    f'/scratch-cbe/users/robert.schoefbeck/TMB/postprocessed/gen/v2/tschRefPointNoWidthRW/tschRefPointNoWidthRW_{n_file}.root:Events'\n",
    "    for n_file in range(50)]"
   ]
  },
  {
   "cell_type": "code",
   "execution_count": 12,
   "id": "dd4783cf",
   "metadata": {},
   "outputs": [],
   "source": [
    "scalar_branches, vector_branches = get_branch_names()"
   ]
  },
  {
   "cell_type": "code",
   "execution_count": 13,
   "id": "21e2ec56",
   "metadata": {},
   "outputs": [],
   "source": [
    "scalar_events, vector_events, weights = load_data(file_names=file_names)"
   ]
  },
  {
   "cell_type": "code",
   "execution_count": 14,
   "id": "5c6f872e",
   "metadata": {
    "scrolled": true
   },
   "outputs": [
    {
     "data": {
      "text/plain": [
       "44"
      ]
     },
     "execution_count": 14,
     "metadata": {},
     "output_type": "execute_result"
    }
   ],
   "source": [
    "len(scalar_branches)"
   ]
  },
  {
   "cell_type": "code",
   "execution_count": 17,
   "id": "72e65ae7",
   "metadata": {},
   "outputs": [],
   "source": [
    "w0 = weights[:,0,np.newaxis]"
   ]
  },
  {
   "cell_type": "code",
   "execution_count": 18,
   "id": "e013a40f",
   "metadata": {},
   "outputs": [],
   "source": [
    "w1_0 = weights[:,1,np.newaxis]/w0"
   ]
  },
  {
   "cell_type": "code",
   "execution_count": 19,
   "id": "a47cc3b8",
   "metadata": {},
   "outputs": [],
   "source": [
    "dataset = JointDataset(x=scalar_events, y=(w0,w1_0))"
   ]
  },
  {
   "cell_type": "code",
   "execution_count": 20,
   "id": "71c0bb3f",
   "metadata": {},
   "outputs": [],
   "source": [
    "data_loader = DataLoader(dataset, batch_size=1000)"
   ]
  },
  {
   "cell_type": "markdown",
   "id": "5d351219",
   "metadata": {},
   "source": [
    "## training"
   ]
  },
  {
   "cell_type": "code",
   "execution_count": 42,
   "id": "97df709a",
   "metadata": {
    "scrolled": false
   },
   "outputs": [
    {
     "data": {
      "text/plain": [
       "MLP(\n",
       "  (mlp): Sequential(\n",
       "    (0): BatchNorm1d(44, eps=1e-05, momentum=0.1, affine=True, track_running_stats=True)\n",
       "    (1): Linear(in_features=44, out_features=300, bias=True)\n",
       "    (2): ReLU()\n",
       "    (3): BatchNorm1d(300, eps=1e-05, momentum=0.1, affine=True, track_running_stats=True)\n",
       "    (4): Linear(in_features=300, out_features=100, bias=True)\n",
       "    (5): ReLU()\n",
       "    (6): BatchNorm1d(100, eps=1e-05, momentum=0.1, affine=True, track_running_stats=True)\n",
       "    (7): Linear(in_features=100, out_features=100, bias=True)\n",
       "    (8): ReLU()\n",
       "    (9): BatchNorm1d(100, eps=1e-05, momentum=0.1, affine=True, track_running_stats=True)\n",
       "    (10): Linear(in_features=100, out_features=1, bias=True)\n",
       "  )\n",
       ")"
      ]
     },
     "execution_count": 42,
     "metadata": {},
     "output_type": "execute_result"
    }
   ],
   "source": [
    "model = MLP(input_nfeatures=44, num_classes=1, hidden_layers=(300,100,100))\n",
    "model"
   ]
  },
  {
   "cell_type": "code",
   "execution_count": 152,
   "id": "48ed37be",
   "metadata": {},
   "outputs": [],
   "source": [
    "file_name = 'model_21_10_22_1.pkl'"
   ]
  },
  {
   "cell_type": "code",
   "execution_count": 153,
   "id": "a3295472",
   "metadata": {},
   "outputs": [],
   "source": [
    "with open(file_name, 'wb') as f:\n",
    "    pickle.dump(model, f)"
   ]
  },
  {
   "cell_type": "code",
   "execution_count": 150,
   "id": "9aa2b762",
   "metadata": {},
   "outputs": [],
   "source": [
    "with open(file_name, 'rb') as f:\n",
    "    model1 = pickle.load(f)"
   ]
  },
  {
   "cell_type": "code",
   "execution_count": null,
   "id": "f7e72e91",
   "metadata": {
    "scrolled": true
   },
   "outputs": [
    {
     "name": "stderr",
     "output_type": "stream",
     "text": [
      "                                                                                                    \r"
     ]
    },
    {
     "name": "stdout",
     "output_type": "stream",
     "text": [
      "################ epoch: 501, loss: 4.179905238643755e-05\n"
     ]
    },
    {
     "name": "stderr",
     "output_type": "stream",
     "text": [
      "                                                                                                    \r"
     ]
    },
    {
     "name": "stdout",
     "output_type": "stream",
     "text": [
      "################ epoch: 511, loss: 4.118628033822347e-05\n"
     ]
    },
    {
     "name": "stderr",
     "output_type": "stream",
     "text": [
      "                                                                                                    \r"
     ]
    },
    {
     "name": "stdout",
     "output_type": "stream",
     "text": [
      "################ epoch: 521, loss: 4.064241968748661e-05\n"
     ]
    },
    {
     "name": "stderr",
     "output_type": "stream",
     "text": [
      "                                                                                                    \r"
     ]
    },
    {
     "name": "stdout",
     "output_type": "stream",
     "text": [
      "################ epoch: 531, loss: 4.0115508607385664e-05\n"
     ]
    },
    {
     "name": "stderr",
     "output_type": "stream",
     "text": [
      "                                                                                                    \r"
     ]
    },
    {
     "name": "stdout",
     "output_type": "stream",
     "text": [
      "################ epoch: 541, loss: 3.9607268476515856e-05\n"
     ]
    },
    {
     "name": "stderr",
     "output_type": "stream",
     "text": [
      "                                                                                                    \r"
     ]
    },
    {
     "name": "stdout",
     "output_type": "stream",
     "text": [
      "################ epoch: 551, loss: 3.9117303202829135e-05\n"
     ]
    },
    {
     "name": "stderr",
     "output_type": "stream",
     "text": [
      "                                                                                                    \r"
     ]
    },
    {
     "name": "stdout",
     "output_type": "stream",
     "text": [
      "################ epoch: 561, loss: 3.8641124636029645e-05\n"
     ]
    },
    {
     "name": "stderr",
     "output_type": "stream",
     "text": [
      "                                                                                                    \r"
     ]
    },
    {
     "name": "stdout",
     "output_type": "stream",
     "text": [
      "################ epoch: 571, loss: 3.818197701122017e-05\n"
     ]
    },
    {
     "name": "stderr",
     "output_type": "stream",
     "text": [
      "                                                                                                    \r"
     ]
    },
    {
     "name": "stdout",
     "output_type": "stream",
     "text": [
      "################ epoch: 581, loss: 3.7737960045802765e-05\n"
     ]
    },
    {
     "name": "stderr",
     "output_type": "stream",
     "text": [
      "                                                                                                    \r"
     ]
    },
    {
     "name": "stdout",
     "output_type": "stream",
     "text": [
      "################ epoch: 591, loss: 3.731175387855501e-05\n"
     ]
    },
    {
     "name": "stderr",
     "output_type": "stream",
     "text": [
      "                                                                                                    \r"
     ]
    },
    {
     "name": "stdout",
     "output_type": "stream",
     "text": [
      "################ epoch: 601, loss: 3.6896259029362e-05\n"
     ]
    },
    {
     "name": "stderr",
     "output_type": "stream",
     "text": [
      "                                                                                                    \r"
     ]
    },
    {
     "name": "stdout",
     "output_type": "stream",
     "text": [
      "################ epoch: 611, loss: 3.6494260989172744e-05\n"
     ]
    },
    {
     "name": "stderr",
     "output_type": "stream",
     "text": [
      "                                                                                                    \r"
     ]
    },
    {
     "name": "stdout",
     "output_type": "stream",
     "text": [
      "################ epoch: 621, loss: 3.6100704654984384e-05\n"
     ]
    },
    {
     "name": "stderr",
     "output_type": "stream",
     "text": [
      "                                                                                                    \r"
     ]
    },
    {
     "name": "stdout",
     "output_type": "stream",
     "text": [
      "################ epoch: 631, loss: 3.5719218161034405e-05\n"
     ]
    },
    {
     "name": "stderr",
     "output_type": "stream",
     "text": [
      "                                                                                                    \r"
     ]
    },
    {
     "name": "stdout",
     "output_type": "stream",
     "text": [
      "################ epoch: 641, loss: 3.5351327930754906e-05\n"
     ]
    },
    {
     "name": "stderr",
     "output_type": "stream",
     "text": [
      "                                                                                                    \r"
     ]
    },
    {
     "name": "stdout",
     "output_type": "stream",
     "text": [
      "################ epoch: 651, loss: 3.499437199394606e-05\n"
     ]
    },
    {
     "name": "stderr",
     "output_type": "stream",
     "text": [
      "                                                                                                    \r"
     ]
    },
    {
     "name": "stdout",
     "output_type": "stream",
     "text": [
      "################ epoch: 661, loss: 3.4646610849620174e-05\n"
     ]
    },
    {
     "name": "stderr",
     "output_type": "stream",
     "text": [
      "                                                                                                    \r"
     ]
    },
    {
     "name": "stdout",
     "output_type": "stream",
     "text": [
      "################ epoch: 671, loss: 3.43090272814095e-05\n"
     ]
    },
    {
     "name": "stderr",
     "output_type": "stream",
     "text": [
      "                                                                                                    \r"
     ]
    },
    {
     "name": "stdout",
     "output_type": "stream",
     "text": [
      "################ epoch: 681, loss: 3.3983082683874954e-05\n"
     ]
    },
    {
     "name": "stderr",
     "output_type": "stream",
     "text": [
      "                                                                                                    \r"
     ]
    },
    {
     "name": "stdout",
     "output_type": "stream",
     "text": [
      "################ epoch: 691, loss: 3.3667695515049445e-05\n"
     ]
    },
    {
     "name": "stderr",
     "output_type": "stream",
     "text": [
      "                                                                                                    \r"
     ]
    },
    {
     "name": "stdout",
     "output_type": "stream",
     "text": [
      "################ epoch: 701, loss: 3.336046106738877e-05\n"
     ]
    },
    {
     "name": "stderr",
     "output_type": "stream",
     "text": [
      "                                                                                                    \r"
     ]
    },
    {
     "name": "stdout",
     "output_type": "stream",
     "text": [
      "################ epoch: 711, loss: 3.306263421976041e-05\n"
     ]
    },
    {
     "name": "stderr",
     "output_type": "stream",
     "text": [
      "                                                                                                    \r"
     ]
    },
    {
     "name": "stdout",
     "output_type": "stream",
     "text": [
      "################ epoch: 721, loss: 3.2773129962748726e-05\n"
     ]
    },
    {
     "name": "stderr",
     "output_type": "stream",
     "text": [
      "                                                                                                    \r"
     ]
    },
    {
     "name": "stdout",
     "output_type": "stream",
     "text": [
      "################ epoch: 731, loss: 3.248810174838468e-05\n"
     ]
    },
    {
     "name": "stderr",
     "output_type": "stream",
     "text": [
      "                                                                                                    \r"
     ]
    },
    {
     "name": "stdout",
     "output_type": "stream",
     "text": [
      "################ epoch: 741, loss: 3.221523273566618e-05\n"
     ]
    },
    {
     "name": "stderr",
     "output_type": "stream",
     "text": [
      "                                                                                                    \r"
     ]
    },
    {
     "name": "stdout",
     "output_type": "stream",
     "text": [
      "################ epoch: 751, loss: 3.194599877787141e-05\n"
     ]
    },
    {
     "name": "stderr",
     "output_type": "stream",
     "text": [
      "                                                                                                    \r"
     ]
    },
    {
     "name": "stdout",
     "output_type": "stream",
     "text": [
      "################ epoch: 761, loss: 3.1682811659550225e-05\n"
     ]
    },
    {
     "name": "stderr",
     "output_type": "stream",
     "text": [
      "epoch: 266:  46%|██████████████████████▌                          | 160/347 [00:03<00:04, 42.97it/s]"
     ]
    }
   ],
   "source": [
    "learn_lin_weight(model=model,\n",
    "                 data_loader=data_loader,\n",
    "                 n_epoch=500,\n",
    "                 learning_rate=1e-5,\n",
    "                 print_every=10,\n",
    "                 save_every=20)"
   ]
  },
  {
   "cell_type": "markdown",
   "id": "a99e1aa9",
   "metadata": {},
   "source": [
    "## Evaluation"
   ]
  },
  {
   "cell_type": "code",
   "execution_count": 67,
   "id": "881249f0",
   "metadata": {
    "collapsed": true
   },
   "outputs": [
    {
     "name": "stdout",
     "output_type": "stream",
     "text": [
      "tensor([-0.1054], grad_fn=<SelectBackward0>) tensor([-0.0769])\n",
      "tensor([-0.2093], grad_fn=<SelectBackward0>) tensor([-0.1417])\n",
      "tensor([-0.1624], grad_fn=<SelectBackward0>) tensor([-0.1715])\n",
      "tensor([-0.1248], grad_fn=<SelectBackward0>) tensor([-0.1294])\n",
      "tensor([-0.0749], grad_fn=<SelectBackward0>) tensor([-0.0494])\n",
      "tensor([-0.1053], grad_fn=<SelectBackward0>) tensor([-0.1061])\n",
      "tensor([-0.0707], grad_fn=<SelectBackward0>) tensor([-0.0617])\n",
      "tensor([-0.0639], grad_fn=<SelectBackward0>) tensor([-0.0722])\n",
      "tensor([-0.0572], grad_fn=<SelectBackward0>) tensor([-0.0611])\n",
      "tensor([-0.2340], grad_fn=<SelectBackward0>) tensor([-0.2292])\n",
      "tensor([0.0017], grad_fn=<SelectBackward0>) tensor([-0.0449])\n",
      "tensor([-0.0880], grad_fn=<SelectBackward0>) tensor([-0.0542])\n",
      "tensor([-0.1319], grad_fn=<SelectBackward0>) tensor([-0.1514])\n",
      "tensor([-0.2952], grad_fn=<SelectBackward0>) tensor([-0.2856])\n",
      "tensor([-0.0762], grad_fn=<SelectBackward0>) tensor([-0.0739])\n",
      "tensor([-0.2056], grad_fn=<SelectBackward0>) tensor([-0.2072])\n",
      "tensor([-0.0409], grad_fn=<SelectBackward0>) tensor([-0.0599])\n",
      "tensor([-0.1872], grad_fn=<SelectBackward0>) tensor([-0.1777])\n",
      "tensor([-0.0739], grad_fn=<SelectBackward0>) tensor([-0.1064])\n",
      "tensor([-0.0913], grad_fn=<SelectBackward0>) tensor([-0.0646])\n",
      "tensor([-0.1931], grad_fn=<SelectBackward0>) tensor([-0.1980])\n",
      "tensor([-0.2426], grad_fn=<SelectBackward0>) tensor([-0.2342])\n",
      "tensor([-0.3940], grad_fn=<SelectBackward0>) tensor([-0.4098])\n",
      "tensor([-0.1486], grad_fn=<SelectBackward0>) tensor([-0.1143])\n",
      "tensor([-0.1516], grad_fn=<SelectBackward0>) tensor([-0.1455])\n",
      "tensor([-0.0007], grad_fn=<SelectBackward0>) tensor([0.0031])\n",
      "tensor([-0.2163], grad_fn=<SelectBackward0>) tensor([-0.1541])\n",
      "tensor([-0.0785], grad_fn=<SelectBackward0>) tensor([-0.1195])\n",
      "tensor([-0.1410], grad_fn=<SelectBackward0>) tensor([-0.1513])\n",
      "tensor([-0.1732], grad_fn=<SelectBackward0>) tensor([-0.1673])\n",
      "tensor([-0.1938], grad_fn=<SelectBackward0>) tensor([-0.1385])\n",
      "tensor([-0.1951], grad_fn=<SelectBackward0>) tensor([-0.1831])\n",
      "tensor([-0.0919], grad_fn=<SelectBackward0>) tensor([-0.0904])\n",
      "tensor([-0.1232], grad_fn=<SelectBackward0>) tensor([-0.0961])\n",
      "tensor([-0.1026], grad_fn=<SelectBackward0>) tensor([-0.1216])\n",
      "tensor([-0.3091], grad_fn=<SelectBackward0>) tensor([-0.2796])\n",
      "tensor([-0.1828], grad_fn=<SelectBackward0>) tensor([-0.0850])\n",
      "tensor([-0.1537], grad_fn=<SelectBackward0>) tensor([-0.1545])\n",
      "tensor([-0.0937], grad_fn=<SelectBackward0>) tensor([-0.0600])\n",
      "tensor([-0.1443], grad_fn=<SelectBackward0>) tensor([-0.0900])\n",
      "tensor([-0.1742], grad_fn=<SelectBackward0>) tensor([-0.1729])\n",
      "tensor([-0.0949], grad_fn=<SelectBackward0>) tensor([-0.1021])\n",
      "tensor([-0.1140], grad_fn=<SelectBackward0>) tensor([-0.1145])\n",
      "tensor([-0.1202], grad_fn=<SelectBackward0>) tensor([-0.0987])\n",
      "tensor([-0.2239], grad_fn=<SelectBackward0>) tensor([-0.2009])\n",
      "tensor([-0.1120], grad_fn=<SelectBackward0>) tensor([-0.1439])\n",
      "tensor([-0.1880], grad_fn=<SelectBackward0>) tensor([-0.2029])\n",
      "tensor([-0.1578], grad_fn=<SelectBackward0>) tensor([-0.1696])\n",
      "tensor([-0.1067], grad_fn=<SelectBackward0>) tensor([-0.0613])\n",
      "tensor([-0.1340], grad_fn=<SelectBackward0>) tensor([-0.0907])\n",
      "tensor([-0.0799], grad_fn=<SelectBackward0>) tensor([-0.0633])\n",
      "tensor([-0.1782], grad_fn=<SelectBackward0>) tensor([-0.2168])\n",
      "tensor([-0.1559], grad_fn=<SelectBackward0>) tensor([-0.1090])\n",
      "tensor([-0.1571], grad_fn=<SelectBackward0>) tensor([-0.1776])\n",
      "tensor([-0.1862], grad_fn=<SelectBackward0>) tensor([-0.2032])\n",
      "tensor([-0.2077], grad_fn=<SelectBackward0>) tensor([-0.2156])\n",
      "tensor([0.0406], grad_fn=<SelectBackward0>) tensor([0.0061])\n",
      "tensor([-0.1639], grad_fn=<SelectBackward0>) tensor([-0.1599])\n",
      "tensor([-0.1990], grad_fn=<SelectBackward0>) tensor([-0.1777])\n",
      "tensor([-0.0924], grad_fn=<SelectBackward0>) tensor([-0.1284])\n",
      "tensor([-0.1828], grad_fn=<SelectBackward0>) tensor([-0.1565])\n",
      "tensor([-0.0915], grad_fn=<SelectBackward0>) tensor([-0.0609])\n",
      "tensor([-0.1941], grad_fn=<SelectBackward0>) tensor([-0.2037])\n",
      "tensor([-0.2649], grad_fn=<SelectBackward0>) tensor([-0.1999])\n",
      "tensor([-0.1702], grad_fn=<SelectBackward0>) tensor([-0.1694])\n",
      "tensor([-0.1744], grad_fn=<SelectBackward0>) tensor([-0.1599])\n",
      "tensor([-0.1083], grad_fn=<SelectBackward0>) tensor([-0.1342])\n",
      "tensor([-0.0826], grad_fn=<SelectBackward0>) tensor([-0.0918])\n",
      "tensor([-0.1162], grad_fn=<SelectBackward0>) tensor([-0.1240])\n",
      "tensor([-0.3020], grad_fn=<SelectBackward0>) tensor([-0.3314])\n",
      "tensor([-0.1840], grad_fn=<SelectBackward0>) tensor([-0.2158])\n",
      "tensor([-0.1037], grad_fn=<SelectBackward0>) tensor([-0.0994])\n",
      "tensor([-0.2289], grad_fn=<SelectBackward0>) tensor([-0.2261])\n",
      "tensor([-0.1055], grad_fn=<SelectBackward0>) tensor([-0.0939])\n",
      "tensor([-0.2177], grad_fn=<SelectBackward0>) tensor([-0.2647])\n",
      "tensor([-0.1186], grad_fn=<SelectBackward0>) tensor([-0.1126])\n",
      "tensor([-0.1014], grad_fn=<SelectBackward0>) tensor([-0.1380])\n",
      "tensor([-0.1452], grad_fn=<SelectBackward0>) tensor([-0.1530])\n",
      "tensor([-0.1358], grad_fn=<SelectBackward0>) tensor([-0.1362])\n",
      "tensor([-0.1872], grad_fn=<SelectBackward0>) tensor([-0.2079])\n",
      "tensor([-0.1687], grad_fn=<SelectBackward0>) tensor([-0.1517])\n",
      "tensor([-0.0580], grad_fn=<SelectBackward0>) tensor([-0.0718])\n",
      "tensor([0.0028], grad_fn=<SelectBackward0>) tensor([-0.0428])\n",
      "tensor([-0.0735], grad_fn=<SelectBackward0>) tensor([-0.0995])\n",
      "tensor([-0.1598], grad_fn=<SelectBackward0>) tensor([-0.1173])\n",
      "tensor([-0.3504], grad_fn=<SelectBackward0>) tensor([-0.3384])\n",
      "tensor([-0.0764], grad_fn=<SelectBackward0>) tensor([-0.0330])\n",
      "tensor([-0.1814], grad_fn=<SelectBackward0>) tensor([-0.1712])\n",
      "tensor([-0.0612], grad_fn=<SelectBackward0>) tensor([-0.0787])\n",
      "tensor([-0.1429], grad_fn=<SelectBackward0>) tensor([-0.1402])\n",
      "tensor([-0.0973], grad_fn=<SelectBackward0>) tensor([-0.0936])\n",
      "tensor([-0.1822], grad_fn=<SelectBackward0>) tensor([-0.1410])\n",
      "tensor([-0.1769], grad_fn=<SelectBackward0>) tensor([-0.1358])\n",
      "tensor([-0.1417], grad_fn=<SelectBackward0>) tensor([-0.1369])\n",
      "tensor([-0.3137], grad_fn=<SelectBackward0>) tensor([-0.3290])\n",
      "tensor([-0.1869], grad_fn=<SelectBackward0>) tensor([-0.2029])\n",
      "tensor([-0.2862], grad_fn=<SelectBackward0>) tensor([-0.2728])\n",
      "tensor([-0.2348], grad_fn=<SelectBackward0>) tensor([-0.2408])\n",
      "tensor([-0.3472], grad_fn=<SelectBackward0>) tensor([-0.3052])\n",
      "tensor([-0.2605], grad_fn=<SelectBackward0>) tensor([-0.2482])\n"
     ]
    }
   ],
   "source": [
    "\n",
    "for i, (x,y,z) in enumerate(data_loader):\n",
    "    if i>0:break\n",
    "    for i in range(100):\n",
    "        print((model(x))[i], z[i])\n",
    "    #print(model(x))\n",
    "    #print((y[:,1]/y[:,0]))\n",
    "    #print(y)"
   ]
  },
  {
   "cell_type": "code",
   "execution_count": 39,
   "id": "35229488",
   "metadata": {},
   "outputs": [],
   "source": [
    "test_file_names = [\n",
    "    f'/scratch-cbe/users/robert.schoefbeck/TMB/postprocessed/gen/v2/tschRefPointNoWidthRW/tschRefPointNoWidthRW_{n_file}.root:Events'\n",
    "    for n_file in range(50,60)]\n",
    "test_scalar_events, test_vector_events, test_weights = load_data(file_names=test_file_names)\n",
    "test_w0 = test_weights[:,0,np.newaxis]\n",
    "test_w1_0 = test_weights[:,1,np.newaxis]/test_w0"
   ]
  },
  {
   "cell_type": "code",
   "execution_count": 73,
   "id": "e2ad9400",
   "metadata": {},
   "outputs": [],
   "source": [
    "pred=model(torch.tensor(scalar_events)).detach().numpy()\n",
    "test_pred=model(torch.tensor(test_scalar_events)).detach().numpy()"
   ]
  },
  {
   "cell_type": "markdown",
   "id": "32708642",
   "metadata": {},
   "source": [
    "### distribution of the true and learned relative linear weight"
   ]
  },
  {
   "cell_type": "code",
   "execution_count": 66,
   "id": "e624c27d",
   "metadata": {},
   "outputs": [
    {
     "data": {
      "image/png": "[encoded data removed]",
      "text/plain": [
       "<Figure size 720x720 with 1 Axes>"
      ]
     },
     "metadata": {
      "needs_background": "light"
     },
     "output_type": "display_data"
    }
   ],
   "source": [
    "bins=np.histogram(np.hstack((pred,w1_0)),range=(-1.0,0.5),  bins=100)[1]\n",
    "plt.figure(figsize=[10,10])\n",
    "plt.hist(pred, histtype='step', bins=bins, range=(-1.0,0.5), label='pred', log=False, density=True)\n",
    "plt.hist(test_pred, histtype='step', bins=bins, range=(-1.0,0.5), label='test_pred', log=False, density=True)\n",
    "plt.hist(w1_0, histtype='step', bins=bins, range=(-1.0,0.5), label='w1_0', log=False, density=True)\n",
    "plt.hist(test_w1_0, histtype='step', bins=bins, range=(-1.0,0.5), label='test_w1_0', log=False, density=True)\n",
    "plt.legend()\n",
    "plt.show()"
   ]
  },
  {
   "cell_type": "markdown",
   "id": "12619e96",
   "metadata": {},
   "source": [
    "### distribution of absolute errors"
   ]
  },
  {
   "cell_type": "code",
   "execution_count": 67,
   "id": "8b30d7e4",
   "metadata": {
    "scrolled": false
   },
   "outputs": [
    {
     "data": {
      "image/png": "[encoded data removed]",
      "text/plain": [
       "<Figure size 720x720 with 1 Axes>"
      ]
     },
     "metadata": {
      "needs_background": "light"
     },
     "output_type": "display_data"
    }
   ],
   "source": [
    "plt.figure(figsize=[10,10])\n",
    "plt.hist((w1_0-pred), bins=100, histtype='step', label='w1_0-pred', range=(-0.2,0.2), log=False, density=True)\n",
    "plt.hist((test_w1_0-test_pred), bins=100, histtype='step',label='test_w1_0-test_pred', range=(-0.2,0.2), log=False, density=True)\n",
    "plt.legend()\n",
    "plt.show()"
   ]
  },
  {
   "cell_type": "markdown",
   "id": "92dedb89",
   "metadata": {},
   "source": [
    "### 2d hist truth vs prediction"
   ]
  },
  {
   "cell_type": "code",
   "execution_count": 59,
   "id": "2f6d1cc4",
   "metadata": {},
   "outputs": [],
   "source": [
    "from matplotlib import colors"
   ]
  },
  {
   "cell_type": "code",
   "execution_count": 74,
   "id": "98fb3616",
   "metadata": {
    "scrolled": false
   },
   "outputs": [
    {
     "data": {
      "image/png": "[encoded data removed]",
      "text/plain": [
       "<Figure size 4032x1440 with 4 Axes>"
      ]
     },
     "metadata": {
      "needs_background": "light"
     },
     "output_type": "display_data"
    }
   ],
   "source": [
    "plt.subplots(figsize=[56,20])\n",
    "plt.subplot(1,2,1)\n",
    "plt.hist2d(w1_0.flatten(), pred.flatten(), range=[[-1.,1.],[-1.,1.]], bins=100, norm=colors.SymLogNorm(1))\n",
    "plt.plot([-1,1],[-1,1])\n",
    "plt.colorbar()\n",
    "plt.title('train')\n",
    "plt.subplot(1,2,2)\n",
    "plt.hist2d(test_w1_0.flatten(), test_pred.flatten(), range=[[-1.,1.],[-1.,1.]], bins=100, norm=colors.SymLogNorm(1))\n",
    "plt.plot([-1,1],[-1,1])\n",
    "plt.colorbar()\n",
    "plt.title('test')\n",
    "plt.show()"
   ]
  },
  {
   "cell_type": "markdown",
   "id": "2eefb8f4",
   "metadata": {},
   "source": [
    "## Histograms"
   ]
  },
  {
   "cell_type": "code",
   "execution_count": 98,
   "id": "5d220387",
   "metadata": {
    "scrolled": false
   },
   "outputs": [
    {
     "name": "stdout",
     "output_type": "stream",
     "text": [
      "saved file to /groups/hephy/cms/oskar.rothbacher/www/pytorch/genTops/genTops/hists.png\n"
     ]
    },
    {
     "data": {
      "image/png": "[encoded data removed]",
      "text/plain": [
       "<Figure size 1440x1440 with 2 Axes>"
      ]
     },
     "metadata": {
      "needs_background": "light"
     },
     "output_type": "display_data"
    }
   ],
   "source": [
    "plot_eft_hists(data=scalar_events[:,:2],\n",
    "               branch_list=scalar_branches[:2],\n",
    "               weights=weights,\n",
    "               bins=25,\n",
    "               theta=(5.0,))"
   ]
  },
  {
   "cell_type": "code",
   "execution_count": 24,
   "id": "da9a0a0d",
   "metadata": {},
   "outputs": [],
   "source": [
    "quantiles_005 = np.linspace(0,1,21)"
   ]
  },
  {
   "cell_type": "code",
   "execution_count": 25,
   "id": "b10499ab",
   "metadata": {},
   "outputs": [
    {
     "data": {
      "text/plain": [
       "array([0.  , 0.05, 0.1 , 0.15, 0.2 , 0.25, 0.3 , 0.35, 0.4 , 0.45, 0.5 ,\n",
       "       0.55, 0.6 , 0.65, 0.7 , 0.75, 0.8 , 0.85, 0.9 , 0.95, 1.  ])"
      ]
     },
     "execution_count": 25,
     "metadata": {},
     "output_type": "execute_result"
    }
   ],
   "source": [
    "quantiles_005"
   ]
  },
  {
   "cell_type": "code",
   "execution_count": 74,
   "id": "0682e850",
   "metadata": {},
   "outputs": [],
   "source": [
    "bins=np.quantile(scalar_events[:,0],quantiles_005)"
   ]
  },
  {
   "cell_type": "code",
   "execution_count": 96,
   "id": "c376edb3",
   "metadata": {},
   "outputs": [
    {
     "data": {
      "text/plain": [
       "(array([3809., 3811., 3820., 3807., 3814., 3818., 3815., 3813., 3809.,\n",
       "        3814., 3816., 3815., 3810., 3816., 3812., 3815., 3808., 3814.,\n",
       "        3819., 3814.]),\n",
       " array([-2.68316174, -1.59433842, -1.30670404, -1.10137415, -0.92858386,\n",
       "        -0.76884013, -0.61271542, -0.46252388, -0.30635458, -0.1663415 ,\n",
       "        -0.01870443,  0.12980531,  0.27301096,  0.44002056,  0.60248595,\n",
       "         0.76152301,  0.92035466,  1.09389782,  1.31680667,  1.63048751,\n",
       "         2.92064834]),\n",
       " [<matplotlib.patches.Polygon at 0x7f2ba2c01750>])"
      ]
     },
     "execution_count": 96,
     "metadata": {},
     "output_type": "execute_result"
    },
    {
     "data": {
      "image/png": "[encoded data removed]",
      "text/plain": [
       "<Figure size 720x720 with 1 Axes>"
      ]
     },
     "metadata": {
      "needs_background": "light"
     },
     "output_type": "display_data"
    }
   ],
   "source": [
    "i=1\n",
    "bins=np.quantile(scalar_events[:,i],quantiles_005)\n",
    "plt.figure(figsize=[10,10])\n",
    "plt.hist(scalar_events[:,i], weights=1+(weights[:,0]-weights[:,0].mean())/weights[:,0].std(), bins=bins, histtype='step', density=False)\n",
    "plt.hist(scalar_events[:,i], bins=bins, histtype='step', density=False)"
   ]
  },
  {
   "cell_type": "markdown",
   "id": "c06c7a60",
   "metadata": {},
   "source": [
    "## LLR plots"
   ]
  },
  {
   "cell_type": "code",
   "execution_count": 130,
   "id": "7672aceb",
   "metadata": {},
   "outputs": [],
   "source": [
    "def llr_poisson(n,lmbd_0, lmbd):\n",
    "    return n * np.log(lmbd/lmbd_0) - lmbd -lmbd_0"
   ]
  },
  {
   "cell_type": "code",
   "execution_count": 131,
   "id": "76ab77b4",
   "metadata": {},
   "outputs": [],
   "source": [
    "n = 10; lmbd_0 = 10\n",
    "x_plot = np.linspace(lmbd_0-3*np.sqrt(lmbd_0), lmbd_0+3*np.sqrt(lmbd_0), 1000)"
   ]
  },
  {
   "cell_type": "code",
   "execution_count": 138,
   "id": "cd3e696c",
   "metadata": {},
   "outputs": [
    {
     "data": {
      "text/plain": [
       "[<matplotlib.lines.Line2D at 0x7f4d7ffda290>]"
      ]
     },
     "execution_count": 138,
     "metadata": {},
     "output_type": "execute_result"
    },
    {
     "data": {
      "image/png": "[encoded data removed]",
      "text/plain": [
       "<Figure size 720x720 with 1 Axes>"
      ]
     },
     "metadata": {
      "needs_background": "light"
     },
     "output_type": "display_data"
    }
   ],
   "source": [
    "plt.figure(figsize=[10,10])\n",
    "plt.plot(x_plot, llr_poisson(n, lmbd_0, x_plot))"
   ]
  }
 ],
 "metadata": {
  "kernelspec": {
   "display_name": "Python 3 (ipykernel)",
   "language": "python",
   "name": "python3"
  },
  "language_info": {
   "codemirror_mode": {
    "name": "ipython",
    "version": 3
   },
   "file_extension": ".py",
   "mimetype": "text/x-python",
   "name": "python",
   "nbconvert_exporter": "python",
   "pygments_lexer": "ipython3",
   "version": "3.10.4"
  }
 },
 "nbformat": 4,
 "nbformat_minor": 5
}
