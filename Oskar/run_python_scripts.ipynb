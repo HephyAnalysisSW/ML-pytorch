{
 "cells": [
  {
   "cell_type": "code",
   "execution_count": 112,
   "id": "4305bd50",
   "metadata": {},
   "outputs": [
    {
     "name": "stdout",
     "output_type": "stream",
     "text": [
      "0 2564059.0\n",
      "10 30640.005859375\n",
      "20 115065.9609375\n",
      "30 96298.125\n",
      "40 22969.947265625\n",
      "50 11904.5126953125\n",
      "60 10016.2333984375\n",
      "70 6814.5615234375\n",
      "80 4118.4404296875\n",
      "90 2370.953857421875\n",
      "100 1318.139404296875\n",
      "110 702.06494140625\n",
      "120 354.5834655761719\n",
      "130 168.3826904296875\n",
      "140 74.58207702636719\n",
      "150 30.530229568481445\n",
      "160 11.408523559570312\n",
      "170 3.8219823837280273\n",
      "180 1.115433931350708\n",
      "190 0.2694506049156189\n"
     ]
    },
    {
     "data": {
      "image/png": "[encoded data removed]",
      "text/plain": [
       "<Figure size 432x288 with 1 Axes>"
      ]
     },
     "metadata": {
      "needs_background": "light"
     },
     "output_type": "display_data"
    },
    {
     "data": {
      "text/plain": [
       "<Figure size 432x288 with 0 Axes>"
      ]
     },
     "metadata": {},
     "output_type": "display_data"
    }
   ],
   "source": [
    "%run -i 'fit-linear.py'"
   ]
  },
  {
   "cell_type": "code",
   "execution_count": null,
   "id": "c6aa180d",
   "metadata": {},
   "outputs": [],
   "source": []
  },
  {
   "cell_type": "code",
   "execution_count": 113,
   "id": "17f56ad1",
   "metadata": {},
   "outputs": [
    {
     "data": {
      "text/plain": [
       "tensor(7.9287)"
      ]
     },
     "execution_count": 113,
     "metadata": {},
     "output_type": "execute_result"
    }
   ],
   "source": [
    "sum(x_train[7])"
   ]
  },
  {
   "cell_type": "code",
   "execution_count": 114,
   "id": "0dfb8e80",
   "metadata": {},
   "outputs": [
    {
     "data": {
      "text/plain": [
       "tensor([16.1629])"
      ]
     },
     "execution_count": 114,
     "metadata": {},
     "output_type": "execute_result"
    }
   ],
   "source": [
    "# avg sum\n",
    "sum(y_train)/len(y_train)"
   ]
  },
  {
   "cell_type": "code",
   "execution_count": 115,
   "id": "3fb5ac52",
   "metadata": {},
   "outputs": [
    {
     "data": {
      "text/plain": [
       "tensor([[ 1.6409],\n",
       "        [16.5122],\n",
       "        [30.9683],\n",
       "        [ 4.5368],\n",
       "        [15.9715],\n",
       "        [ 1.6922],\n",
       "        [17.0766],\n",
       "        [24.7861],\n",
       "        [17.4398],\n",
       "        [ 4.0092]])"
      ]
     },
     "execution_count": 115,
     "metadata": {},
     "output_type": "execute_result"
    }
   ],
   "source": [
    "y_train[:10]"
   ]
  },
  {
   "cell_type": "code",
   "execution_count": 116,
   "id": "3e43ac9c",
   "metadata": {},
   "outputs": [
    {
     "data": {
      "text/plain": [
       "tensor([[ 1.6452],\n",
       "        [16.5134],\n",
       "        [30.9664],\n",
       "        [ 4.5405],\n",
       "        [15.9728],\n",
       "        [ 1.6965],\n",
       "        [17.0777],\n",
       "        [24.7856],\n",
       "        [17.4408],\n",
       "        [ 4.0130]], grad_fn=<AddmmBackward0>)"
      ]
     },
     "execution_count": 116,
     "metadata": {},
     "output_type": "execute_result"
    }
   ],
   "source": [
    "model(x_train[:10])"
   ]
  },
  {
   "cell_type": "code",
   "execution_count": 117,
   "id": "c2c0fba4",
   "metadata": {},
   "outputs": [],
   "source": [
    "#for param in model.parameters():\n",
    "#    print(param.data)"
   ]
  },
  {
   "cell_type": "code",
   "execution_count": 118,
   "id": "dab792f3",
   "metadata": {
    "scrolled": true
   },
   "outputs": [
    {
     "data": {
      "image/png": "[encoded data removed]",
      "text/plain": [
       "<Figure size 432x288 with 1 Axes>"
      ]
     },
     "metadata": {
      "needs_background": "light"
     },
     "output_type": "display_data"
    }
   ],
   "source": [
    "plt.scatter(y_train, y_train_pred)\n",
    "plt.plot(y_train, y_train)\n",
    "plt.show()\n",
    "#plt.savefig(os.path.join( user.plot_directory, \"pred_vs_truth_sum.png\" ) )"
   ]
  },
  {
   "cell_type": "code",
   "execution_count": null,
   "id": "b64bb4a8",
   "metadata": {},
   "outputs": [],
   "source": []
  }
 ],
 "metadata": {
  "kernelspec": {
   "display_name": "Python 3 (ipykernel)",
   "language": "python",
   "name": "python3"
  },
  "language_info": {
   "codemirror_mode": {
    "name": "ipython",
    "version": 3
   },
   "file_extension": ".py",
   "mimetype": "text/x-python",
   "name": "python",
   "nbconvert_exporter": "python",
   "pygments_lexer": "ipython3",
   "version": "3.10.4"
  }
 },
 "nbformat": 4,
 "nbformat_minor": 5
}
