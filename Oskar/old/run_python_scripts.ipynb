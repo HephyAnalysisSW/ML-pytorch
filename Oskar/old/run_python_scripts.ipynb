{
 "cells": [
  {
   "cell_type": "code",
   "execution_count": 1,
   "id": "4305bd50",
   "metadata": {},
   "outputs": [
    {
     "name": "stdout",
     "output_type": "stream",
     "text": [
      "Welcome to JupyROOT 6.24/06\n",
      "0 3435506.0\n",
      "10 3118383.25\n",
      "20 2824459.5\n",
      "30 2555614.0\n",
      "40 2312399.5\n",
      "50 2094318.25\n",
      "60 1900213.375\n",
      "70 1728580.5\n",
      "80 1577761.125\n",
      "90 1446047.75\n",
      "100 1331740.75\n",
      "110 1233177.25\n",
      "120 1148751.125\n",
      "130 1076927.75\n",
      "140 1016252.8125\n",
      "150 965364.0\n",
      "160 922995.875\n",
      "170 887985.5\n",
      "180 859274.875\n",
      "190 835911.9375\n"
     ]
    },
    {
     "data": {
      "image/png": "[encoded data removed]",
      "text/plain": [
       "<Figure size 432x288 with 1 Axes>"
      ]
     },
     "metadata": {
      "needs_background": "light"
     },
     "output_type": "display_data"
    },
    {
     "data": {
      "text/plain": [
       "<Figure size 432x288 with 0 Axes>"
      ]
     },
     "metadata": {},
     "output_type": "display_data"
    }
   ],
   "source": [
    "%run -i 'fit-linear.py'"
   ]
  },
  {
   "cell_type": "code",
   "execution_count": null,
   "id": "c6aa180d",
   "metadata": {},
   "outputs": [],
   "source": []
  },
  {
   "cell_type": "code",
   "execution_count": 2,
   "id": "17f56ad1",
   "metadata": {},
   "outputs": [
    {
     "data": {
      "text/plain": [
       "tensor(7.7765)"
      ]
     },
     "execution_count": 2,
     "metadata": {},
     "output_type": "execute_result"
    }
   ],
   "source": [
    "sum(x_train[7])"
   ]
  },
  {
   "cell_type": "code",
   "execution_count": 3,
   "id": "0dfb8e80",
   "metadata": {},
   "outputs": [
    {
     "data": {
      "text/plain": [
       "tensor([15.9977])"
      ]
     },
     "execution_count": 3,
     "metadata": {},
     "output_type": "execute_result"
    }
   ],
   "source": [
    "# avg sum\n",
    "sum(y_train)/len(y_train)"
   ]
  },
  {
   "cell_type": "code",
   "execution_count": 4,
   "id": "3fb5ac52",
   "metadata": {},
   "outputs": [
    {
     "data": {
      "text/plain": [
       "tensor([[15.7425],\n",
       "        [ 3.8977],\n",
       "        [16.0157],\n",
       "        [ 7.1481],\n",
       "        [ 7.5004],\n",
       "        [ 7.6788],\n",
       "        [20.5351],\n",
       "        [24.3296],\n",
       "        [ 5.2112],\n",
       "        [18.9736]])"
      ]
     },
     "execution_count": 4,
     "metadata": {},
     "output_type": "execute_result"
    }
   ],
   "source": [
    "y_train[:10]"
   ]
  },
  {
   "cell_type": "code",
   "execution_count": 5,
   "id": "3e43ac9c",
   "metadata": {},
   "outputs": [
    {
     "data": {
      "text/plain": [
       "tensor([[13.4057],\n",
       "        [13.4057],\n",
       "        [13.4057],\n",
       "        [13.4057],\n",
       "        [13.4057],\n",
       "        [13.4057],\n",
       "        [13.4057],\n",
       "        [13.4057],\n",
       "        [13.4057],\n",
       "        [13.4057]], grad_fn=<AddmmBackward0>)"
      ]
     },
     "execution_count": 5,
     "metadata": {},
     "output_type": "execute_result"
    }
   ],
   "source": [
    "model(x_train[:10])"
   ]
  },
  {
   "cell_type": "code",
   "execution_count": 6,
   "id": "c2c0fba4",
   "metadata": {},
   "outputs": [],
   "source": [
    "#for param in model.parameters():\n",
    "#    print(param.data)"
   ]
  },
  {
   "cell_type": "code",
   "execution_count": 7,
   "id": "dab792f3",
   "metadata": {
    "scrolled": true
   },
   "outputs": [
    {
     "data": {
      "image/png": "[encoded data removed]",
      "text/plain": [
       "<Figure size 432x288 with 1 Axes>"
      ]
     },
     "metadata": {
      "needs_background": "light"
     },
     "output_type": "display_data"
    }
   ],
   "source": [
    "plt.scatter(y_train, y_train_pred)\n",
    "plt.plot(y_train, y_train)\n",
    "plt.show()\n",
    "#plt.savefig(os.path.join( user.plot_directory, \"pred_vs_truth_sum.png\" ) )"
   ]
  },
  {
   "cell_type": "code",
   "execution_count": null,
   "id": "b64bb4a8",
   "metadata": {},
   "outputs": [],
   "source": []
  }
 ],
 "metadata": {
  "kernelspec": {
   "display_name": "Python 3 (ipykernel)",
   "language": "python",
   "name": "python3"
  },
  "language_info": {
   "codemirror_mode": {
    "name": "ipython",
    "version": 3
   },
   "file_extension": ".py",
   "mimetype": "text/x-python",
   "name": "python",
   "nbconvert_exporter": "python",
   "pygments_lexer": "ipython3",
   "version": "3.10.4"
  }
 },
 "nbformat": 4,
 "nbformat_minor": 5
}
