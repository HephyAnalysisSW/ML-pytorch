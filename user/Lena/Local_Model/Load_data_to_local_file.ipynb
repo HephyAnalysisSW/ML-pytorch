{
 "cells": [
  {
   "cell_type": "code",
   "execution_count": 1,
   "id": "bb57674a",
   "metadata": {},
   "outputs": [
    {
     "ename": "ModuleNotFoundError",
     "evalue": "No module named 'uproot'",
     "output_type": "error",
     "traceback": [
      "\u001b[1;31m---------------------------------------------------------------------------\u001b[0m",
      "\u001b[1;31mModuleNotFoundError\u001b[0m                       Traceback (most recent call last)",
      "\u001b[1;32m<ipython-input-1-b0da0ac4db97>\u001b[0m in \u001b[0;36m<module>\u001b[1;34m\u001b[0m\n\u001b[1;32m----> 1\u001b[1;33m \u001b[1;32mimport\u001b[0m \u001b[0muproot\u001b[0m\u001b[1;33m\u001b[0m\u001b[1;33m\u001b[0m\u001b[0m\n\u001b[0m\u001b[0;32m      2\u001b[0m \u001b[1;32mimport\u001b[0m \u001b[0mnumpy\u001b[0m \u001b[1;32mas\u001b[0m \u001b[0mnp\u001b[0m\u001b[1;33m\u001b[0m\u001b[1;33m\u001b[0m\u001b[0m\n\u001b[0;32m      3\u001b[0m \u001b[1;33m\u001b[0m\u001b[0m\n\u001b[0;32m      4\u001b[0m \u001b[0mmy_file\u001b[0m \u001b[1;33m=\u001b[0m \u001b[0mopen\u001b[0m\u001b[1;33m(\u001b[0m\u001b[1;34m\"Event_properties.txt\"\u001b[0m\u001b[1;33m,\u001b[0m \u001b[1;34m\"r\"\u001b[0m\u001b[1;33m)\u001b[0m\u001b[1;33m\u001b[0m\u001b[1;33m\u001b[0m\u001b[0m\n\u001b[0;32m      5\u001b[0m \u001b[0mcontent\u001b[0m \u001b[1;33m=\u001b[0m \u001b[0mmy_file\u001b[0m\u001b[1;33m.\u001b[0m\u001b[0mread\u001b[0m\u001b[1;33m(\u001b[0m\u001b[1;33m)\u001b[0m\u001b[1;33m\u001b[0m\u001b[1;33m\u001b[0m\u001b[0m\n",
      "\u001b[1;31mModuleNotFoundError\u001b[0m: No module named 'uproot'"
     ]
    }
   ],
   "source": [
    "import uproot\n",
    "import numpy as np\n",
    "\n",
    "my_file = open(\"Event_properties.txt\", \"r\")\n",
    "content = my_file.read()\n",
    "content_list = content.split('\\n')\n",
    "my_file.close()\n",
    "print(content_list)\n",
    "\n",
    "\n",
    "array1 = uproot.concatenate( ['/eos/vbc/group/cms/robert.schoefbeck/TMB/training-ntuples-tttt-v2/MVA-training/tttt_2l/TTTT/TTTT.root'], content_list )\n",
    "array2 = uproot.concatenate( ['/eos/vbc/group/cms/robert.schoefbeck/TMB/training-ntuples-tttt-v2/MVA-training/tttt_2l/TTLep_bb/TTLep_bb.root'], content_list )\n",
    "array3 = uproot.concatenate( ['/eos/vbc/group/cms/robert.schoefbeck/TMB/training-ntuples-tttt-v2/MVA-training/tttt_2l/TTLep_cc/TTLep_cc.root'], content_list )\n",
    "array4 = uproot.concatenate( ['/eos/vbc/group/cms/robert.schoefbeck/TMB/training-ntuples-tttt-v2/MVA-training/tttt_2l/TTLep_other/TTLep_other.root'], content_list )\n",
    "\n",
    "print(array1)\n",
    "data1 = array1.to_numpy()\n",
    "data2 = array2.to_numpy()\n",
    "data3 = array3.to_numpy()\n",
    "data4 = array4.to_numpy()\n",
    "print(data4)\n",
    "\n",
    "\n",
    "#np.savetxt(\"localdata1.txt\", data1)\n",
    "#np.savetxt(\"localdata2.txt\", data2)\n",
    "#np.savetxt(\"localdata3.txt\", data3)\n",
    "#np.savetxt(\"localdata4.txt\", data4)"
   ]
  },
  {
   "cell_type": "code",
   "execution_count": null,
   "id": "57ca7f06",
   "metadata": {},
   "outputs": [],
   "source": []
  }
 ],
 "metadata": {
  "kernelspec": {
   "display_name": "Python 3",
   "language": "python",
   "name": "python3"
  },
  "language_info": {
   "codemirror_mode": {
    "name": "ipython",
    "version": 3
   },
   "file_extension": ".py",
   "mimetype": "text/x-python",
   "name": "python",
   "nbconvert_exporter": "python",
   "pygments_lexer": "ipython3",
   "version": "3.8.8"
  }
 },
 "nbformat": 4,
 "nbformat_minor": 5
}
