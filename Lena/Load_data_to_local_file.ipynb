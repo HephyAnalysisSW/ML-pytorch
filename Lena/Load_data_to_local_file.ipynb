{
 "cells": [
  {
   "cell_type": "code",
   "execution_count": 12,
   "id": "bb57674a",
   "metadata": {},
   "outputs": [
    {
     "name": "stdout",
     "output_type": "stream",
     "text": [
      "['mva_nJetGood', 'mva_nBTag', 'mva_nlep', 'mva_mT_l1', 'mva_mT_l2', 'mva_ml_12', 'mva_met_pt', 'mva_l1_pt', 'mva_l1_eta', 'mva_l2_pt', 'mva_l2_eta', 'mva_mj_12', 'mva_mlj_11', 'mva_mlj_12', 'mva_dPhil_12', 'mva_dPhij_12', 'mva_dEtal_12', 'mva_dEtaj_12', 'mva_ht', 'mva_htb', 'mva_ht_ratio', 'mva_jet0_pt', 'mva_jet0_eta', 'mva_jet0_btagDeepFlavB', 'mva_jet1_pt', 'mva_jet1_eta', 'mva_jet1_btagDeepFlavB', 'mva_jet2_pt', 'mva_jet2_eta', 'mva_jet2_btagDeepFlavB', 'mva_jet3_pt', 'mva_jet4_pt', 'mva_jet5_pt', 'mva_jet6_pt', 'mva_jet7_pt']\n",
      "[{mva_nJetGood: 7, mva_nBTag: 2, mva_nlep: 2, ... mva_jet6_pt: 0, mva_jet7_pt: 0}]\n",
      "[(6., 2., 2., 234.34547 ,  30.768362, 211.51929 , 102.60839  , 137.00377 , -0.25585938, 70.4306  , -1.0358887 , 335.85107, 145.17174 , 281.87753 , 3.0844853, 1.755127 ,  0.7800293 , -2.3781738 , 483.8125 , 192.625  , 0.8220514, 148.   , -0.5354004 , 0.8881836 , 140.125 ,  1.8427734e+00, 0.01945496,  60.375,   0.94592285,  2.0050049e-02,  60.375, 60.375, 60.375, 0., 0.)\n",
      " (4., 1., 2.,  34.597095, 154.47455 , 217.66676 ,  92.22297  ,  94.652565,  0.2543335 , 73.59439 , -1.4841309 , 230.06482, 179.21371 , 250.6731  , 2.0584717, 2.0868962,  1.7384644 ,  1.4353027 , 464.59375,  51.78125, 1.       , 214.   , -0.78100586, 0.38867188, 111.4375, -2.2163086e+00, 0.00894165,  87.375,  -0.26080322,  5.2680969e-03,  87.375,  0.   ,  0.   , 0., 0.)\n",
      " (4., 2., 2., 152.44214 ,  73.73504 ,  92.36637 ,  72.87307  ,  83.81555 , -1.4018555 , 36.205376, -1.3344727 , 207.81718, 135.91142 , 165.45091 , 1.986084 , 2.2660522, -0.06738281, -0.9149512 , 505.53125, 249.28125, 1.       , 196.625, -0.91516113, 0.99072266, 151.625 , -2.0992756e-04, 0.0093689 , 104.625,   1.0131836 ,  1.8142700e-02, 104.625,  0.   ,  0.   , 0., 0.)\n",
      " ...\n",
      " (2., 2., 2., 270.91302 ,  85.423546, 157.82121 , 255.15471  ,  72.29968 , -0.36029053, 52.544174,  1.2731934 , 209.04883, 156.33951 ,  98.94432 , 2.23924  , 2.728986 , -1.6334839 , -0.7017822 , 440.375  , 440.375  , 1.       , 337.25 , -0.29022217, 0.9941406 , 103.125 ,  4.1156006e-01, 0.99902344,   0.   , -10.        , -1.0000000e+01,   0.   ,  0.   ,  0.   , 0., 0.)\n",
      " (4., 1., 2.,  16.004654,  13.411028, 100.193436,   5.4663863,  56.77248 ,  1.7871094 , 37.341507,  0.45562744, 167.97662, 102.374306,  96.722275, 1.9201483, 2.6035156,  1.3314819 , -0.13671875, 430.78125, 173.625  , 1.       , 173.625,  1.4335938 , 0.39453125, 161.    ,  1.5703125e+00, 0.24609375,  61.25 ,  -0.9304199 ,  5.0964355e-03,  61.25 ,  0.   ,  0.   , 0., 0.)\n",
      " (4., 2., 2.,  49.170963, 156.18726 , 206.83922 ,  94.73422  , 154.99419 ,  1.1208496 , 67.87349 ,  0.8585205 , 312.05893, 252.98218 , 180.7149  , 3.0922241, 1.8432617,  0.2623291 , -0.977417  , 805.25   , 473.875  , 1.       , 309.75 ,  0.32580566, 0.9970703 , 207.25  ,  1.3032227e+00, 0.0368042 , 164.125,   0.7104492 ,  9.5800781e-01, 164.125,  0.   ,  0.   , 0., 0.)]\n"
     ]
    }
   ],
   "source": [
    "import uproot\n",
    "import numpy as np\n",
    "\n",
    "my_file = open(\"Event_properties.txt\", \"r\")\n",
    "content = my_file.read()\n",
    "content_list = content.split('\\n')\n",
    "my_file.close()\n",
    "print(content_list)\n",
    "\n",
    "\n",
    "array1 = uproot.concatenate( ['/eos/vbc/group/cms/robert.schoefbeck/TMB/training-ntuples-tttt-v2/MVA-training/tttt_2l/TTTT/TTTT.root'], content_list )\n",
    "array2 = uproot.concatenate( ['/eos/vbc/group/cms/robert.schoefbeck/TMB/training-ntuples-tttt-v2/MVA-training/tttt_2l/TTLep_bb/TTLep_bb.root'], content_list )\n",
    "array3 = uproot.concatenate( ['/eos/vbc/group/cms/robert.schoefbeck/TMB/training-ntuples-tttt-v2/MVA-training/tttt_2l/TTLep_cc/TTLep_cc.root'], content_list )\n",
    "array4 = uproot.concatenate( ['/eos/vbc/group/cms/robert.schoefbeck/TMB/training-ntuples-tttt-v2/MVA-training/tttt_2l/TTLep_other/TTLep_other.root'], content_list )\n",
    "\n",
    "print(array1)\n",
    "data1 = array1.to_numpy()\n",
    "\n",
    "data2 = array2.to_numpy()\n",
    "data3 = array3.to_numpy()\n",
    "data4 = array4.to_numpy()\n",
    "print(data4)\n",
    "\n",
    "\n",
    "#np.savetxt(\"localdata1.txt\", data1)\n",
    "#np.savetxt(\"localdata2.txt\", data2)\n",
    "#np.savetxt(\"localdata3.txt\", data3)\n",
    "#np.savetxt(\"localdata4.txt\", data4)"
   ]
  },
  {
   "cell_type": "code",
   "execution_count": null,
   "id": "57ca7f06",
   "metadata": {},
   "outputs": [],
   "source": []
  }
 ],
 "metadata": {
  "kernelspec": {
   "display_name": "Python 3 (ipykernel)",
   "language": "python",
   "name": "python3"
  },
  "language_info": {
   "codemirror_mode": {
    "name": "ipython",
    "version": 3
   },
   "file_extension": ".py",
   "mimetype": "text/x-python",
   "name": "python",
   "nbconvert_exporter": "python",
   "pygments_lexer": "ipython3",
   "version": "3.10.4"
  }
 },
 "nbformat": 4,
 "nbformat_minor": 5
}
