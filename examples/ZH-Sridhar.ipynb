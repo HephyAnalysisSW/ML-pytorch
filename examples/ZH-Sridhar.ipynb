{
 "cells": [
  {
   "cell_type": "code",
   "execution_count": 1,
   "id": "9736663f-41bd-4b08-954b-fd212fffbc02",
   "metadata": {},
   "outputs": [
    {
     "name": "stdout",
     "output_type": "stream",
     "text": [
      "Welcome to JupyROOT 6.24/06\n"
     ]
    }
   ],
   "source": [
    "import torch\n",
    "import math\n",
    "import numpy as np\n",
    "from matplotlib import pyplot as plt\n",
    "import os\n",
    "import sys\n",
    "sys.path.append('..')\n",
    "import ROOT\n",
    "from Tools import syncer \n",
    "from Tools import user\n",
    "from Tools import helpers\n",
    "import itertools\n",
    "from PIL import Image\n",
    "import glob"
   ]
  },
  {
   "cell_type": "code",
   "execution_count": 2,
   "id": "92336f08-671b-492c-8265-0dc5cbe7f8b2",
   "metadata": {},
   "outputs": [],
   "source": [
    "class NN:\n",
    "    def __init__(self,nfeatures,coefficient_names):\n",
    "        self.nfeatures         = nfeatures\n",
    "        self.coefficient_names = coefficient_names\n",
    "        self.combination_list=list(itertools.chain.from_iterable(itertools.combinations_with_replacement(self.coefficient_names, i) for i in np.arange(0,3)))\n",
    "        self.n_hat = {combination: self.make_NN() for combination in self.combination_list[1:]}\n",
    "        \n",
    "    def make_NN(self, hidden_layers  = [32, 32, 32, 32]):\n",
    "        '''\n",
    "        Creates the Neural Network Architecture\n",
    "        '''\n",
    "        model_nn = [torch.nn.BatchNorm1d(self.nfeatures), torch.nn.ReLU(), torch.nn.Linear(self.nfeatures, hidden_layers[0])]\n",
    "        for i_layer, layer in enumerate(hidden_layers):\n",
    "            model_nn.append(torch.nn.Linear(hidden_layers[i_layer], hidden_layers[i_layer+1] if i_layer+1<len(hidden_layers) else 1))\n",
    "            if i_layer+1<len(hidden_layers):\n",
    "                model_nn.append( torch.nn.ReLU() )\n",
    "        return torch.nn.Sequential(*model_nn)\n",
    "\n",
    "    def evaluate_NN(self, features):\n",
    "        '''Evaluate Neural Network: The zeroth dimension of features is the number of data points and and the first dimension\n",
    "        is the number of features(variables). Returns the output of the NNs of dimensions: (noutput,ndatapoints)\n",
    "        '''\n",
    "        noutputs=len(self.combination_list)\n",
    "        ndatapoints=features.shape[0]\n",
    "        \n",
    "        output=torch.zeros((noutputs,ndatapoints))\n",
    "        for i in range(noutputs):\n",
    "            x=self.n_hat[self.combination_list[i]](features)\n",
    "            if i==0:\n",
    "                output[i,:]=1\n",
    "            else:\n",
    "                output[i,:]=torch.flatten(x)            \n",
    "        return output\n",
    "\n",
    "    def predict_r_hat2(self, predictions,eft):\n",
    "        return torch.add( \n",
    "        torch.sum( torch.stack( [(1. + predictions[(c,)]*eft[c])**2 for c in coefficients ]), dim=0),\n",
    "        torch.sum( torch.stack( [torch.sum( torch.stack( [ predictions[(c_1,c_2)]*eft[c_2] for c_2 in coefficients[i_c_1:] ]), dim=0)**2 for i_c_1, c_1 in enumerate(coefficients) ] ), dim=0 ) )   \n",
    "\n",
    "    def save(self,fileName):\n",
    "        outfile = open(fileName,'wb')\n",
    "        pickle.dump(self, outfile)\n",
    "        outfile.close()\n",
    "        \n",
    "    @classmethod\n",
    "    def load(self, fileName):\n",
    "        infile = open(fileName,'rb')\n",
    "        print(fileName)\n",
    "        new_dict = pickle.load(infile)\n",
    "        infile.close()\n",
    "        return new_dict"
   ]
  },
  {
   "cell_type": "code",
   "execution_count": 3,
   "id": "f300bba0-ec54-4e0e-9b9e-4e12718c1653",
   "metadata": {},
   "outputs": [],
   "source": [
    "def make_weight_ratio(weights, **kwargs):\n",
    "    eft      = kwargs\n",
    "    result = torch.ones(len(weights[()])) \n",
    "    for combination in combinations[1:]:\n",
    "        if len(combination)==1:\n",
    "            result += eft[combination[0]]*weights[combination]/weights[()]\n",
    "        elif len(combination)==2:# add up without the factor 1/2 because off diagonals are only summed in upper triangle \n",
    "            result += (0.5 if len(set(combination))==1 else 1.)*eft[combination[0]]*eft[combination[1]]*weights[combination]/weights[()]\n",
    "    return result"
   ]
  },
  {
   "cell_type": "code",
   "execution_count": 4,
   "id": "ecb14fda-63c7-40fd-8558-e73b040ae190",
   "metadata": {},
   "outputs": [],
   "source": [
    "# loss functional\n",
    "def f_loss(r_NN, features, predictions, base_points):\n",
    "    loss = -0.5*weights[()].sum()\n",
    "    for i_base_point, base_point in enumerate(base_points):\n",
    "        fhat  = 1./(1. + r_NN.predict_r_hat2(predictions, base_point))\n",
    "        loss += ( torch.tensor(weights[()])*( -0.25 + base_point_weight_ratios[i_base_point]*fhat**2 + (1-fhat)**2 ) ).sum()\n",
    "    return loss"
   ]
  },
  {
   "cell_type": "code",
   "execution_count": 5,
   "id": "f3ba614a-e60f-487b-99c0-3312429a1298",
   "metadata": {},
   "outputs": [],
   "source": [
    "plot_directory=\"15_7_2022\"\n",
    "nEvents=30000\n",
    "learning_rate = 1e-3\n",
    "device        = 'cuda' if torch.cuda.is_available() else 'cpu'\n",
    "n_epoch       = 3000\n",
    "plot_every    = 100\n",
    "\n"
   ]
  },
  {
   "cell_type": "code",
   "execution_count": 6,
   "id": "5a4a711d-6147-429a-8b5e-5d37a53e2526",
   "metadata": {},
   "outputs": [
    {
     "name": "stdout",
     "output_type": "stream",
     "text": [
      "Requested 30000 events. Simulated 30000 events and 30000 survive pT_min cut of 0.\n"
     ]
    }
   ],
   "source": [
    "# training data\n",
    "import ZH_Nakamura\n",
    "\n",
    "ZH_Nakamura.feature_names = ZH_Nakamura.feature_names[0:6] # restrict features\n",
    "features   = ZH_Nakamura.getEvents(nEvents)[:,0:6]\n",
    "feature_names  = ZH_Nakamura.feature_names\n",
    "plot_options   = ZH_Nakamura.plot_options\n",
    "plot_vars      = ZH_Nakamura.feature_names\n",
    "\n",
    "mask       = (features[:,feature_names.index('pT')]<900) & (features[:,feature_names.index('sqrt_s_hat')]<1800) \n",
    "features = features[mask]\n",
    "\n",
    "nfeatures = len(features[0]) \n",
    "weights    = ZH_Nakamura.getWeights(features, ZH_Nakamura.make_eft())\n",
    "\n",
    "#pT=features[:,feature_names.index('pT')]\n",
    "\n",
    "#coefficients   = ['cHW']\n",
    "#combinations   =  [ (), ('cHW',), ('cHW', 'cHW')]\n",
    "#combinations2   =  [ (), ('cHW',), ('cHW', 'cHW')]\n",
    "#base_points = [ {'cHW':value} for value in [-1.5, -.8, -.4, -.2, .2, .4, .8, 1.5] ]\n",
    "\n",
    "#coefficients   = ['cHWtil']\n",
    "#combinations   =  [ (), ('cHWtil',), ('cHWtil', 'cHWtil')]\n",
    "#combinations2   =  [ (), ('cHWtil',), ('cHWtil', 'cHWtil')]\n",
    "#base_points = [ {'cHWtil':value} for value in [-1.5, -.8, -.4, -.2, .2, .4, .8, 1.5] ]\n",
    "\n",
    "coefficients   =  ( 'cHW', 'cHWtil') \n",
    "combinations   =  [(), ('cHW',), ('cHWtil',), ('cHW','cHW'), ('cHW','cHWtil'),('cHWtil','cHWtil')]\n",
    "combinations2 = [(), ('cHW',), ('cHWtil',), ('cHW','cHW'), ('cHW','cHWtil'),('cHWtil','cHW'),('cHWtil','cHWtil')]\n",
    "base_points = [ {'cHW':value1, 'cHWtil':value2} for value1 in [-1.5, -.8, .2, 0., .2, .8, 1.5]  for value2 in [-1.5, -.8, .2, 0, .2, .8, 1.5]]\n",
    "\n",
    "rows, columns = np.triu_indices(len(coefficients)+1)\n",
    "utriu_indices = list(zip(rows,columns))\n",
    "w_truth=np.zeros((len(coefficients)+1,len(coefficients)+1,features.shape[0]))\n",
    "\n",
    "for i in range(0,len(combinations)):\n",
    "    w_truth[rows[i],columns[i],:]=torch.from_numpy(weights[combinations[i]]).float().to(device)\n",
    "    if rows[i]!=columns[i]:\n",
    "        w_truth[columns[i],rows[i],:]=w_truth[rows[i],columns[i],:]\n",
    "        \n",
    "features = torch.from_numpy(features).float().to(device)"
   ]
  },
  {
   "cell_type": "code",
   "execution_count": 7,
   "id": "1a51735a-584a-4025-8521-fcef189132bd",
   "metadata": {},
   "outputs": [],
   "source": [
    "coefficients = tuple(filter( lambda coeff: coeff in coefficients, list(coefficients))) \n",
    "combinations = tuple(filter( lambda comb: all([c in coefficients for c in comb]), combinations)) \n",
    "\n",
    "base_points    = list(map( lambda b:ZH_Nakamura.make_eft(**b), base_points ))"
   ]
  },
  {
   "cell_type": "code",
   "execution_count": 8,
   "id": "350f60f1-d0c7-40b8-a9f9-c7edcfe06ab0",
   "metadata": {},
   "outputs": [],
   "source": [
    "r_NN=NN(nfeatures,coefficients)"
   ]
  },
  {
   "cell_type": "code",
   "execution_count": 9,
   "id": "58893910-4759-43c7-ab89-0582a047c05e",
   "metadata": {},
   "outputs": [],
   "source": [
    "base_point_weight_ratios = list( map( lambda base_point: make_weight_ratio( weights, **base_point ), base_points ) )"
   ]
  },
  {
   "cell_type": "code",
   "execution_count": 10,
   "id": "4dd9a6e4-c7cc-4c1d-b0ef-794086eedb5c",
   "metadata": {},
   "outputs": [],
   "source": [
    "#optimizer = torch.optim.RMSprop(model.parameters(), lr=learning_rate)\n",
    "optimizer = torch.optim.Adam(sum([list(model.parameters()) for model in r_NN.n_hat.values()],[]), lr=learning_rate)\n",
    "\n",
    "losses = []\n",
    "\n",
    "tex = ROOT.TLatex()\n",
    "tex.SetNDC()\n",
    "tex.SetTextSize(0.04)\n",
    "hist_colors=['b','g', 'r', 'c', 'm','y']"
   ]
  },
  {
   "cell_type": "code",
   "execution_count": 11,
   "id": "4cdddd70-6982-4579-a182-0208a4f7224e",
   "metadata": {},
   "outputs": [
    {
     "name": "stdout",
     "output_type": "stream",
     "text": [
      "epoch 99 loss 2.2380392390787276\n",
      "epoch 199 loss 2.225228991777899\n",
      "epoch 299 loss 2.2094678088723234\n",
      "epoch 399 loss 2.1886469370406076\n",
      "epoch 499 loss 2.1684179518869047\n",
      "epoch 599 loss 2.1641970501846117\n",
      "epoch 699 loss 2.1576840128721413\n",
      "epoch 799 loss 2.1559027030955953\n",
      "epoch 899 loss 2.154260386320793\n",
      "epoch 999 loss 2.152147257686806\n",
      "epoch 1099 loss 2.151194766614742\n",
      "epoch 1199 loss 2.1505651887965374\n",
      "epoch 1299 loss 2.1496208235775267\n",
      "epoch 1399 loss 2.1484853504095343\n",
      "epoch 1499 loss 2.148014731420577\n",
      "epoch 1599 loss 2.147697852569796\n",
      "epoch 1699 loss 2.147436289104402\n",
      "epoch 1799 loss 2.1472394575880416\n",
      "epoch 1899 loss 2.14709808386519\n",
      "epoch 1999 loss 2.146946125241049\n",
      "epoch 2099 loss 2.1468020727660515\n",
      "epoch 2199 loss 2.146679999487729\n",
      "epoch 2299 loss 2.1465409510570157\n",
      "epoch 2399 loss 2.146447582878044\n",
      "epoch 2499 loss 2.1459816768750724\n",
      "epoch 2599 loss 2.1458277506190417\n",
      "epoch 2699 loss 2.145688186729866\n",
      "epoch 2799 loss 2.1455914858089162\n",
      "epoch 2899 loss 2.145525345785487\n",
      "epoch 2999 loss 2.1454469634429962\n"
     ]
    }
   ],
   "source": [
    "for nn in r_NN.n_hat.values():\n",
    "    nn.train()\n",
    "    \n",
    "for epoch in range(n_epoch):\n",
    "    #print(\"epoch: \", epoch)\n",
    "    # Forward pass: compute predicted y by passing x to the model.\n",
    "    predictions = {combination:r_NN.n_hat[combination](features).squeeze() for combination in combinations[1:]}\n",
    "\n",
    "    # Compute and print loss.\n",
    "    loss = f_loss(r_NN,features, predictions,base_points)\n",
    "    losses.append(loss.item())\n",
    "    if epoch % 100 == 99:\n",
    "        print(\"epoch\", epoch, \"loss\",  loss.item())\n",
    "\n",
    "    optimizer.zero_grad()\n",
    "    loss.backward()\n",
    "    optimizer.step()\n",
    "    \n",
    "    \n",
    "    #rows, columns = np.triu_indices(len(coefficients)+1)\n",
    "    w_predicted=np.zeros((len(coefficients)+1, len(coefficients)+1, features.shape[0]))      \n",
    "    for i in range(1,len(combinations)):\n",
    "        w_predicted[rows[i],columns[i],:]=predictions[combinations[i]].squeeze().cpu().detach().numpy()\n",
    "      \n",
    "    if (epoch % plot_every)==0:\n",
    "        with torch.no_grad():\n",
    "                \n",
    "            #print(\"epoch\", epoch, \"loss inside loop\",  loss_train.item())\n",
    "            #print(\"epoch\", epoch, \"test loss\",  loss_test.item())\n",
    "            \n",
    "            for var in ['pT']:\n",
    "                binning     = plot_options[var]['binning']\n",
    "                np_binning= np.linspace(binning[1], binning[2], 1+binning[0])\n",
    "                \n",
    "                # Linear Terms\n",
    "                for i in range(0, len(coefficients)):\n",
    "                    hist_truth_0, bins  = np.histogram(features[:,feature_names.index(var)], np_binning, weights=w_truth[0,0,:])\n",
    "                    plt.step(bins[1:], hist_truth_0, label='yield', linestyle=('solid'), color='k')\n",
    "\n",
    "                    hist_truth, bins = np.histogram(features[:,feature_names.index(var)], np_binning, weights=w_truth[0,i+1])\n",
    "                    plt.step(bins[1:], hist_truth, label='truth', linestyle=('dashed'), color=hist_colors[i])\n",
    "\n",
    "                    hist_predicted, bins = np.histogram(features[:,feature_names.index(var)], bins, weights=w_truth[0,0,:]*2*w_predicted[0,i+1])\n",
    "                    plt.step(bins[1:], hist_predicted, label='truth', linestyle=('solid'), color=hist_colors[i])\n",
    "\n",
    "                    label=coefficients[i]\n",
    "\n",
    "                    plt.legend(['Yield ', 'Truth '+coefficients[i], 'Predicted '+ coefficients[i]])\n",
    "                    plt.savefig(os.path.join(plot_directory, \"_epoch_%05i_%s__\"%(epoch, var) + label + \".png\" ))\n",
    "                    plt.close()\n",
    "                \n",
    "                # Quadratic Terms\n",
    "                \n",
    "                for k in range(1, len(coefficients)+1):\n",
    "                    for l in range(k, len(coefficients)+1):\n",
    "                        i_comb=utriu_indices.index((k,l))\n",
    "                        label = combinations[i_comb][0]+combinations[i_comb][1]                     \n",
    "                        uind=min(l,k)\n",
    "                        if k==l:\n",
    "                            wpp=2*w_predicted[0,l,:]**2\n",
    "                        else:\n",
    "                            wpp=0\n",
    "                        for m in range(1,uind+1):\n",
    "                            wpp+=2*w_predicted[m,l,:]*w_predicted[m,k,:]\n",
    "    \n",
    "                            \n",
    "                        hist_truth_0, bins  = np.histogram(features[:,feature_names.index(var)], np_binning, weights=w_truth[0,0,:])\n",
    "                        plt.step(bins[1:], hist_truth_0, label='yield', linestyle=('solid'), color='k')\n",
    "\n",
    "                        hist_truth, bins  = np.histogram(features[:,feature_names.index(var)], np_binning, weights=w_truth[l,k,:])\n",
    "                        plt.step(bins[1:],hist_truth, label='truth', linestyle=('dashed'), color=hist_colors[k])\n",
    "\n",
    "                        hist_predicted, bins  = np.histogram(features[:,feature_names.index(var)], np_binning, weights=w_truth[0,0,:]*wpp)\n",
    "                        plt.step(bins[1:],hist_predicted, label='truth', linestyle=('solid'), color=hist_colors[k])\n",
    "\n",
    "                        plt.legend(['Yield ' + label, 'Truth '+ label, 'Predicted '+ label])\n",
    "                        plt.savefig(os.path.join(plot_directory, \"_epoch_%05i_%s_\"%(epoch, var)+label+\".png\"))\n",
    "                        plt.close()\n",
    "\n",
    "                "
   ]
  },
  {
   "cell_type": "code",
   "execution_count": 12,
   "id": "fc9e1fbe-6555-4500-a757-5cd309dd24ed",
   "metadata": {},
   "outputs": [
    {
     "data": {
      "text/plain": [
       "2"
      ]
     },
     "execution_count": 12,
     "metadata": {},
     "output_type": "execute_result"
    }
   ],
   "source": [
    "len(coefficients)"
   ]
  },
  {
   "cell_type": "code",
   "execution_count": 13,
   "id": "ee2e7e3c-4748-4eab-aa8c-7dfd26a70454",
   "metadata": {},
   "outputs": [],
   "source": [
    "for i in range(0,len(coefficients)):\n",
    "    pTFiles=[]\n",
    "    for file in os.listdir(os.getcwd()+'/'+ plot_directory):\n",
    "        # check only text files\n",
    "        string=\"__\" + coefficients[i] + \".png\"\n",
    "        if file.endswith(string):\n",
    "            pTFiles.append(file)\n",
    "            #print(file)\n",
    "    frames=[]\n",
    "    for image in pTFiles:\n",
    "        new_frame = Image.open(os.getcwd()+'/'+ plot_directory +'/'+image)\n",
    "        frames.append(new_frame)\n",
    "\n",
    "    frames[0].save(plot_directory + '__'+ coefficients[i]+'.gif', format='GIF',\n",
    "                   append_images=frames[1:],\n",
    "                   save_all=True,\n",
    "                   duration=200, loop=0)"
   ]
  },
  {
   "cell_type": "code",
   "execution_count": 14,
   "id": "3eac9cf0-79ad-4313-96ef-c4a7ae14f2f1",
   "metadata": {},
   "outputs": [],
   "source": [
    "for k in range(1,len(coefficients)+1):\n",
    "    for l in range(k,len(coefficients)+1):\n",
    "        i_comb=utriu_indices.index((k,l))\n",
    "        label = combinations[i_comb][0]+combinations[i_comb][1]  \n",
    "        pTFiles=[]\n",
    "        for file in os.listdir(os.getcwd()+'/'+ plot_directory):\n",
    "            # check only text files\n",
    "            string=\"_\"+label+\".png\"\n",
    "            if file.endswith(string):\n",
    "                pTFiles.append(file)\n",
    "        frames=[]\n",
    "        for image in pTFiles:\n",
    "            new_frame = Image.open(os.getcwd()+'/'+ plot_directory +'/'+image)\n",
    "            frames.append(new_frame)\n",
    "\n",
    "        frames[0].save(plot_directory + '__'+ label+'.gif', format='GIF',\n",
    "                       append_images=frames[1:],\n",
    "                       save_all=True,\n",
    "                       duration=200, loop=0)"
   ]
  },
  {
   "cell_type": "code",
   "execution_count": null,
   "id": "c2667246-dcf5-4658-9197-5e9a96dd40b3",
   "metadata": {},
   "outputs": [],
   "source": []
  }
 ],
 "metadata": {
  "kernelspec": {
   "display_name": "Python [conda env:conda-ptur]",
   "language": "python",
   "name": "conda-env-conda-ptur-py"
  },
  "language_info": {
   "codemirror_mode": {
    "name": "ipython",
    "version": 3
   },
   "file_extension": ".py",
   "mimetype": "text/x-python",
   "name": "python",
   "nbconvert_exporter": "python",
   "pygments_lexer": "ipython3",
   "version": "3.10.4"
  }
 },
 "nbformat": 4,
 "nbformat_minor": 5
}
